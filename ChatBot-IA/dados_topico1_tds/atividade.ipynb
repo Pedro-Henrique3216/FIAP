{
 "cells": [
  {
   "cell_type": "code",
   "execution_count": 9,
   "metadata": {},
   "outputs": [],
   "source": [
    "notas = [39, 38, 27, 22, 20, 17, 10, 10, 10, 10, 7, 7, 7, 7, 6]"
   ]
  },
  {
   "cell_type": "code",
   "execution_count": 6,
   "metadata": {},
   "outputs": [
    {
     "name": "stdout",
     "output_type": "stream",
     "text": [
      "15.8\n"
     ]
    }
   ],
   "source": [
    "def media_aritimetica(notas:list):\n",
    "    media = 0\n",
    "    for i in notas:\n",
    "        media += i\n",
    "    return media / len(notas)\n",
    "\n",
    "print(media_aritimetica(notas))"
   ]
  },
  {
   "cell_type": "code",
   "execution_count": 13,
   "metadata": {},
   "outputs": [
    {
     "name": "stdout",
     "output_type": "stream",
     "text": [
      "12.85218983525253\n"
     ]
    }
   ],
   "source": [
    "def media_geometrica(notas:list):\n",
    "    media = 1\n",
    "    for i in notas:\n",
    "        media *= i\n",
    "    \n",
    "    return media ** (1 / len(notas))\n",
    "\n",
    "print(media_geometrica(notas))"
   ]
  },
  {
   "cell_type": "code",
   "execution_count": 14,
   "metadata": {},
   "outputs": [
    {
     "name": "stdout",
     "output_type": "stream",
     "text": [
      "10.858807403873502\n"
     ]
    }
   ],
   "source": [
    "def media_harmonica(notas:list):\n",
    "    soma = 0\n",
    "    for i in notas:\n",
    "        soma += (1 / i)\n",
    "    \n",
    "    return len(notas) / soma\n",
    "\n",
    "print(media_harmonica(notas))"
   ]
  },
  {
   "cell_type": "code",
   "execution_count": 16,
   "metadata": {},
   "outputs": [],
   "source": [
    "peso = [113, 88, 58, 65, 71, 46, 36, 33, 37, 40, 24, 21, 20, 15, 20]"
   ]
  },
  {
   "cell_type": "code",
   "execution_count": 17,
   "metadata": {},
   "outputs": [
    {
     "name": "stdout",
     "output_type": "stream",
     "text": [
      "21.963609898107716\n"
     ]
    }
   ],
   "source": [
    "def media_ponderada(notas:list, peso:list):\n",
    "    soma = 0\n",
    "    soma_pesos = 0\n",
    "    for i in range(len(notas)):\n",
    "        soma += notas[i] * peso[i]\n",
    "        soma_pesos += peso[i]\n",
    "\n",
    "    return soma / soma_pesos\n",
    "\n",
    "print(media_ponderada(notas, peso))"
   ]
  },
  {
   "cell_type": "code",
   "execution_count": 73,
   "metadata": {},
   "outputs": [],
   "source": [
    "x = [9, 38, 27, 22, 20, 17, 10, 10, 10, 10, 7, 7, 7, 7, 6]"
   ]
  },
  {
   "cell_type": "code",
   "execution_count": 74,
   "metadata": {},
   "outputs": [
    {
     "name": "stdout",
     "output_type": "stream",
     "text": [
      "[10, 7]\n"
     ]
    }
   ],
   "source": [
    "def moda(lista:list):\n",
    "    map = {}\n",
    "    contador = 0\n",
    "    for i in lista:\n",
    "        map[i] = lista.count(i)\n",
    "        contador = map[i] if contador < map[i] else contador\n",
    "    \n",
    "    outra_lista = []\n",
    "    for i in map:\n",
    "        if(map[i] == contador):\n",
    "            outra_lista.append(i)    \n",
    "    return outra_lista\n",
    "\n",
    "print(moda(x))"
   ]
  },
  {
   "cell_type": "code",
   "execution_count": 75,
   "metadata": {},
   "outputs": [
    {
     "name": "stdout",
     "output_type": "stream",
     "text": [
      "10\n"
     ]
    }
   ],
   "source": [
    "def mediana(lista:list):\n",
    "    lista.sort()\n",
    "    indice = len(lista) // 2\n",
    "    if len(lista) % 2 != 0:\n",
    "        return lista[indice]\n",
    "    \n",
    "    \n",
    "    return (lista[indice] + lista[indice - 1]) / 2\n",
    "\n",
    "print(mediana(x))\n",
    "    "
   ]
  }
 ],
 "metadata": {
  "kernelspec": {
   "display_name": "Python 3",
   "language": "python",
   "name": "python3"
  },
  "language_info": {
   "codemirror_mode": {
    "name": "ipython",
    "version": 3
   },
   "file_extension": ".py",
   "mimetype": "text/x-python",
   "name": "python",
   "nbconvert_exporter": "python",
   "pygments_lexer": "ipython3",
   "version": "3.12.3"
  }
 },
 "nbformat": 4,
 "nbformat_minor": 2
}
